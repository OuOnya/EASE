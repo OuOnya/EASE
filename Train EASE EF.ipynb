{
 "cells": [
  {
   "cell_type": "code",
   "execution_count": 1,
   "metadata": {
    "execution": {
     "iopub.execute_input": "2021-04-11T09:59:06.641275Z",
     "iopub.status.busy": "2021-04-11T09:59:06.641050Z",
     "iopub.status.idle": "2021-04-11T09:59:17.628909Z",
     "shell.execute_reply": "2021-04-11T09:59:17.626111Z",
     "shell.execute_reply.started": "2021-04-11T09:59:06.641243Z"
    }
   },
   "outputs": [],
   "source": [
    "from jupyterthemes import jtplot\n",
    "jtplot.style(theme='monokai', context='notebook', ticks=True, grid=False, fscale=2, figsize=(8, 6))\n",
    "\n",
    "from main import *\n",
    "args.device = 'cuda:2'"
   ]
  },
  {
   "cell_type": "code",
   "execution_count": null,
   "metadata": {},
   "outputs": [],
   "source": [
    "if __name__ == '__main__':\n",
    "    # ===== Load AutoEncoder =====\n",
    "#     AE_name = 'PCA_AE16_BiLSTM32_L6NR S'\n",
    "#     AE, _, _ = AutoEncoder().load_model(\n",
    "#         os.path.join(args.AE_checkpoint_path, f'{AE_name}.pt'),\n",
    "#         device=args.device\n",
    "#     )\n",
    "    \n",
    "    # ===== Load clean data =====\n",
    "    print('Cache clean testing data ...')\n",
    "#     pca = pickle.load(open(os.path.join(args.AE_checkpoint_path, 'PCA16.pkl'), 'rb'))\n",
    "#     dataset = cache_clean_data([pca, AE.Encoder], is_training=False, dataset_path=args.dataset_path, device=args.device)\n",
    "    dataset = cache_clean_data(is_training=False, dataset_path=args.dataset_path, device=args.device)\n",
    "    print(f\"Test set size: {len(dataset['Test'])}\")\n",
    "    \n",
    "    # ===== Test set performance =====\n",
    "    model_name = 'S+E CNN512 EF cat0 LSTM_384_Linear (norm)'\n",
    "    model, _, _ = MultiModal_SE().load_model(\n",
    "        os.path.join(args.MM_checkpoint_path, f'{model_name}.pt'),\n",
    "        device=args.device\n",
    "    )\n",
    "    \n",
    "    analyze(\n",
    "        model, dataset, model_name, processes=8,\n",
    "        use_griffin=False,\n",
    "        evaluation_path=args.evaluation_path,\n",
    "        dataset_path=args.dataset_path\n",
    "    )"
   ]
  },
  {
   "cell_type": "code",
   "execution_count": null,
   "metadata": {
    "execution": {
     "iopub.execute_input": "2021-04-11T10:01:07.281243Z",
     "iopub.status.busy": "2021-04-11T10:01:07.280802Z"
    }
   },
   "outputs": [
    {
     "name": "stdout",
     "output_type": "stream",
     "text": [
      "Model './checkpoint/MultiModal/S+E CNN512 EF cat0 LSTM_384_Linear (norm).pt' loaded.\n",
      "Cache clean training data ...\n",
      "Training set size: 222, Validation set size: 27\n"
     ]
    },
    {
     "data": {
      "application/vnd.jupyter.widget-view+json": {
       "model_id": "28a3efa2281a40f8bed9547dece2b847",
       "version_major": 2,
       "version_minor": 0
      },
      "text/plain": [
       "HBox(children=(FloatProgress(value=0.0), HTML(value='')))"
      ]
     },
     "metadata": {},
     "output_type": "display_data"
    },
    {
     "data": {
      "application/vnd.jupyter.widget-view+json": {
       "model_id": "45981628df5e4e01a10c8cf75f73a13c",
       "version_major": 2,
       "version_minor": 0
      },
      "text/plain": [
       "HBox(children=(FloatProgress(value=0.0), HTML(value='')))"
      ]
     },
     "metadata": {},
     "output_type": "display_data"
    }
   ],
   "source": [
    "if __name__ == '__main__':\n",
    "    # ===== Load AutoEncoder =====\n",
    "#     AE_name = 'AE124_BiLSTM12NR S'\n",
    "#     AE_name = 'PCA_AE16_BiLSTM32_L6NR S'\n",
    "#     AE, _, _ = AutoEncoder().load_model(\n",
    "#         os.path.join(args.AE_checkpoint_path, f'{AE_name}.pt'),\n",
    "#         device=args.device\n",
    "#     )\n",
    "    \n",
    "    # ===== Build/Load MultiModal_SE =====\n",
    "    model_name = 'S+E CNN512 EF cat0 LSTM_384_Linear (norm)'\n",
    "    \n",
    "    model = MultiModal_SE()\n",
    "    model, from_epoch, valid_loss_threshold = model.load_model(\n",
    "        os.path.join(args.MM_checkpoint_path, f'{model_name}.pt'),\n",
    "        device=args.device\n",
    "    )\n",
    "    valid_loss_threshold = 1e9\n",
    "    \n",
    "#     from_epoch, valid_loss_threshold = 0, 1e9\n",
    "    \n",
    "    # (N, Seq, 257) -> (N, Seq, 16 * 128)\n",
    "#     model.S_Encoder = nn.Identity()\n",
    "#     model.S_Encoder = nn.Sequential(OrderedDict([\n",
    "#         ('unsq_0', Unsqueeze(0)),\n",
    "#         ('conv_0', nn.Conv2d(1, 32, (5, 25), 1, (2, 12), bias=False)),\n",
    "#         ('norm_0', nn.InstanceNorm2d(32, affine=True)),\n",
    "#         ('pool_1', nn.MaxPool2d((1, 2))),\n",
    "#         ('conv_2', nn.Conv2d(32, 32, (5, 17), 1, (2, 8), bias=False)),\n",
    "#         ('norm_2', nn.InstanceNorm2d(32, affine=True)),\n",
    "#         ('conv_3', nn.Conv2d(32, 16, (5, 9), 1, (2, 4), bias=False)),\n",
    "#         ('norm_3', nn.InstanceNorm2d(16, affine=True)),\n",
    "#         ('reshape', Reshape(16, 128)),\n",
    "#     ]))\n",
    "        \n",
    "    # (N, Seq, 124) -> (N, Seq, 12) or None\n",
    "#     model.E_Encoder = nn.Identity()\n",
    "#     model.E_Encoder = nn.Sequential(OrderedDict([\n",
    "#         ('L_0', nn.Linear(124, 257)),#, bias=False)),\n",
    "#         ('norm_0', nn.LayerNorm(257, elementwise_affine=True)),\n",
    "#         ('relu_0', nn.LeakyReLU(negative_slope=0.3)),\n",
    "#     ]))\n",
    "#     model.E_Encoder = nn.Sequential(OrderedDict([\n",
    "#         *list(AE.Encoder._modules.items()),\n",
    "#         ('L_1', nn.Linear(12, 16*128)),\n",
    "#         ('relu_1', nn.LeakyReLU(negative_slope=0.3, inplace=True)),\n",
    "#     ]))\n",
    "    \n",
    "#     for name, para in model.E_Encoder.named_parameters():\n",
    "#         if '_0' in name:\n",
    "#             para.requires_grad = False\n",
    "    \n",
    "    # (N, Seq, 2 Encoders input size) -> (N, Seq, fusion size) or None\n",
    "#     model.Fusion_layer = nn.Sequential(OrderedDict(\n",
    "#         list(ResCNN(input_channel=2, input_size=Const.FBIN, use_residual=False).CNN_model.named_children()) + [\n",
    "# #         ('unsq_0', Unsqueeze(0)),\n",
    "# #         ('conv_0', nn.Conv2d(2, 32, (5, 25), 1, (2, 12), bias=False)),\n",
    "# #         ('norm_0', nn.InstanceNorm2d(32, affine=True)),\n",
    "# #         ('pool_1', nn.MaxPool2d((1, 2))),\n",
    "# #         ('conv_2', nn.Conv2d(32, 32, (5, 17), 1, (2, 8), bias=False)),\n",
    "# #         ('norm_2', nn.InstanceNorm2d(32, affine=True)),\n",
    "# #         ('conv_3', nn.Conv2d(32, 16, (5, 9), 1, (2, 4), bias=False)),\n",
    "# #         ('norm_3', nn.InstanceNorm2d(16, affine=True)),\n",
    "# #         ('reshape', Reshape(16, 128)),\n",
    "        \n",
    "# #         ('unfold_4', SeqUnfold_Reshape(frame_seq=args.frame_seq)),\n",
    "#         ('lstm_4', nn.LSTM(input_size=4*128, hidden_size=384, bias=False, batch_first=True, dropout=0, bidirectional=False)),\n",
    "# #         ('flat_4', SeqFlatten()),\n",
    "        \n",
    "#         ('L_5', nn.Linear(384, 384, bias=False)),\n",
    "#         ('norm_5', nn.LayerNorm(384, elementwise_affine=True)),\n",
    "#         ('relu_5', nn.LeakyReLU(negative_slope=0.3)),\n",
    "#     ]))\n",
    "    \n",
    "    # (N, Seq, fusion size or S_Encoder latent size) -> (N, Seq, 257)\n",
    "#     model.S_Decoder = nn.Sequential(OrderedDict([\n",
    "#         ('L_6', nn.Linear(512, 257, bias=False)),\n",
    "#         ('relu_6', nn.LeakyReLU(negative_slope=0.3, inplace=True))\n",
    "#     ]))\n",
    "        \n",
    "    # (N, Seq, fusion size or S_Encoder latent size) -> (N, Seq, 124) or None\n",
    "#     model.E_Decoder = nn.Sequential(OrderedDict([\n",
    "#         ('L_6', nn.Linear(512, 124, bias=False)),\n",
    "#         ('relu_6', nn.LeakyReLU(negative_slope=0.3, inplace=True)),\n",
    "#     ]))\n",
    "    \n",
    "    model.is_late_fusion = False\n",
    "    model.fusion_type = 'concat'\n",
    "    model.fusion_channel = 0\n",
    "    model.use_norm = True\n",
    "    \n",
    "    model.to(args.device)\n",
    "    \n",
    "    # ===== Load clean data =====\n",
    "    print('Cache clean training data ...')\n",
    "#     pca = pickle.load(open(os.path.join(args.AE_checkpoint_path, 'PCA16.pkl'), 'rb'))\n",
    "#     dataset = cache_clean_data([pca, AE.Encoder], split_ratio=args.split_ratio, dataset_path=args.dataset_path, device=args.device)\n",
    "    dataset = cache_clean_data(split_ratio=args.split_ratio, dataset_path=args.dataset_path, device=args.device)\n",
    "    print(f\"Training set size: {len(dataset['Train'])}, Validation set size: {len(dataset['Valid'])}\")\n",
    "    \n",
    "    loss_fn = nn.MSELoss()\n",
    "    optimizer = torch.optim.Adam(model.parameters(), lr=args.lr)\n",
    "    \n",
    "    model_name = 'S+E CNN512 EF cat0 LSTM_384_Linear (norm) (zero_pad)'\n",
    "    train(model, dataset,\n",
    "          from_epoch, args.batch_size,\n",
    "          valid_loss_threshold, args.loss_coef,\n",
    "          loss_fn, optimizer,\n",
    "          save_filename=os.path.join(args.MM_checkpoint_path, model_name),\n",
    "          dataset_path=args.dataset_path,\n",
    "          use_zero_pad=True,\n",
    "    )"
   ]
  }
 ],
 "metadata": {
  "kernelspec": {
   "display_name": "Python 3",
   "language": "python",
   "name": "python3"
  },
  "language_info": {
   "codemirror_mode": {
    "name": "ipython",
    "version": 3
   },
   "file_extension": ".py",
   "mimetype": "text/x-python",
   "name": "python",
   "nbconvert_exporter": "python",
   "pygments_lexer": "ipython3",
   "version": "3.7.7"
  },
  "widgets": {
   "application/vnd.jupyter.widget-state+json": {
    "state": {
     "01d9e004ba8f4ebeb9daa0b62d2a8c77": {
      "model_module": "@jupyter-widgets/base",
      "model_module_version": "1.2.0",
      "model_name": "LayoutModel",
      "state": {}
     },
     "162dbe832bba42c784af09d08a5333a7": {
      "model_module": "@jupyter-widgets/base",
      "model_module_version": "1.2.0",
      "model_name": "LayoutModel",
      "state": {}
     },
     "1890923921624239b6f0deb35c8da23b": {
      "model_module": "@jupyter-widgets/controls",
      "model_module_version": "1.5.0",
      "model_name": "FloatProgressModel",
      "state": {
       "bar_style": "danger",
       "description": "(Epoch 4) noise type: n1:   0%",
       "layout": "IPY_MODEL_5820f53e70774d2fb186c611875383eb",
       "style": "IPY_MODEL_e6c31c7d187c4282bc34f6040b830482"
      }
     },
     "19d90d6c15134b4abe75bc7788dad3da": {
      "model_module": "@jupyter-widgets/base",
      "model_module_version": "1.2.0",
      "model_name": "LayoutModel",
      "state": {}
     },
     "1c0ed7bc9eb744ed8bd132e6dbd7cd04": {
      "model_module": "@jupyter-widgets/controls",
      "model_module_version": "1.5.0",
      "model_name": "HBoxModel",
      "state": {
       "children": [
        "IPY_MODEL_b4457670b7ce4d43b19afc35c1e06ff0",
        "IPY_MODEL_3b6346f010c749efa728d4ee74d8f6e9"
       ],
       "layout": "IPY_MODEL_42a7140bf7c443f0902787422db52528"
      }
     },
     "1e6065ded8f74dc695cf55555174d480": {
      "model_module": "@jupyter-widgets/controls",
      "model_module_version": "1.5.0",
      "model_name": "HBoxModel",
      "state": {
       "children": [
        "IPY_MODEL_4d230a05305e4814837495c6c3f67e87",
        "IPY_MODEL_524b289ad4454b6a821775f002daf379"
       ],
       "layout": "IPY_MODEL_71f9b28ba659435ea1453498c640f08b"
      }
     },
     "1f75caf4865741b8bb4a640be6d1d20e": {
      "model_module": "@jupyter-widgets/controls",
      "model_module_version": "1.5.0",
      "model_name": "ProgressStyleModel",
      "state": {
       "description_width": "initial"
      }
     },
     "200febe8008e45e8bcd22f19a812d6c2": {
      "model_module": "@jupyter-widgets/base",
      "model_module_version": "1.2.0",
      "model_name": "LayoutModel",
      "state": {}
     },
     "26714ef889c94abab86a694df0cb7f68": {
      "model_module": "@jupyter-widgets/base",
      "model_module_version": "1.2.0",
      "model_name": "LayoutModel",
      "state": {}
     },
     "28a3efa2281a40f8bed9547dece2b847": {
      "model_module": "@jupyter-widgets/controls",
      "model_module_version": "1.5.0",
      "model_name": "HBoxModel",
      "state": {
       "children": [
        "IPY_MODEL_704984fa45e24bc1ae3fbbbf8c3cd153",
        "IPY_MODEL_9307ba5d06674a47adc1942ce720a9ba"
       ],
       "layout": "IPY_MODEL_54c21e43d50d422385eb0b338a549581"
      }
     },
     "2bf3e09ad48d417ba7025ac632f8f266": {
      "model_module": "@jupyter-widgets/controls",
      "model_module_version": "1.5.0",
      "model_name": "FloatProgressModel",
      "state": {
       "description": "  0%",
       "layout": "IPY_MODEL_784e15bc267843d1bcd0273f7031ff3a",
       "style": "IPY_MODEL_8f3485f71f81438082f9ac9d66580a31"
      }
     },
     "34b80b92070042ec9b411f2eece0ad6f": {
      "model_module": "@jupyter-widgets/base",
      "model_module_version": "1.2.0",
      "model_name": "LayoutModel",
      "state": {}
     },
     "35f943627e1640c6a9575a62a2bfa76a": {
      "model_module": "@jupyter-widgets/controls",
      "model_module_version": "1.5.0",
      "model_name": "ProgressStyleModel",
      "state": {
       "description_width": "initial"
      }
     },
     "3620d4241e904c5a83aaa6f960336341": {
      "model_module": "@jupyter-widgets/controls",
      "model_module_version": "1.5.0",
      "model_name": "DescriptionStyleModel",
      "state": {
       "description_width": ""
      }
     },
     "3b6346f010c749efa728d4ee74d8f6e9": {
      "model_module": "@jupyter-widgets/controls",
      "model_module_version": "1.5.0",
      "model_name": "HTMLModel",
      "state": {
       "layout": "IPY_MODEL_effea18119a14a9b91fa5cb322690301",
       "style": "IPY_MODEL_87d3a36fba404cd581f822652eeae880",
       "value": " 0/100 [00:00&lt;?, ?it/s]"
      }
     },
     "42a7140bf7c443f0902787422db52528": {
      "model_module": "@jupyter-widgets/base",
      "model_module_version": "1.2.0",
      "model_name": "LayoutModel",
      "state": {}
     },
     "45105e7075b5493fb20235e891ebf136": {
      "model_module": "@jupyter-widgets/controls",
      "model_module_version": "1.5.0",
      "model_name": "HBoxModel",
      "state": {
       "children": [
        "IPY_MODEL_59b846a9e4fc418e9beb3a088dc011d6",
        "IPY_MODEL_9c74a1c33a9540ebbe06c2ee93c99dcd"
       ],
       "layout": "IPY_MODEL_26714ef889c94abab86a694df0cb7f68"
      }
     },
     "45981628df5e4e01a10c8cf75f73a13c": {
      "model_module": "@jupyter-widgets/controls",
      "model_module_version": "1.5.0",
      "model_name": "HBoxModel",
      "state": {
       "children": [
        "IPY_MODEL_2bf3e09ad48d417ba7025ac632f8f266",
        "IPY_MODEL_57b2f9874da343bba0343f37795298cc"
       ],
       "layout": "IPY_MODEL_162dbe832bba42c784af09d08a5333a7"
      }
     },
     "4d230a05305e4814837495c6c3f67e87": {
      "model_module": "@jupyter-widgets/controls",
      "model_module_version": "1.5.0",
      "model_name": "FloatProgressModel",
      "state": {
       "bar_style": "danger",
       "description": "(Epoch 4) noise type: n1:   0%",
       "layout": "IPY_MODEL_6fdb2cc6afd64c9e9876c67bac1ff6cf",
       "style": "IPY_MODEL_8b4fdf8e1ef04425862c031cef92b52d"
      }
     },
     "4dadbb9a2a3f42f0aad17693aea1f1c5": {
      "model_module": "@jupyter-widgets/controls",
      "model_module_version": "1.5.0",
      "model_name": "HTMLModel",
      "state": {
       "layout": "IPY_MODEL_8e1d97c596494ccda64fb48397803cc0",
       "style": "IPY_MODEL_c90f5bcc30b94c7ebe48dd523ba69c4e",
       "value": " 0/100 [00:00&lt;?, ?it/s]"
      }
     },
     "4dd609f8f14442c2ad7e38aadf857aa6": {
      "model_module": "@jupyter-widgets/base",
      "model_module_version": "1.2.0",
      "model_name": "LayoutModel",
      "state": {}
     },
     "4f3e4d72bd2a41dcabf7a1d56fc281df": {
      "model_module": "@jupyter-widgets/controls",
      "model_module_version": "1.5.0",
      "model_name": "HBoxModel",
      "state": {
       "children": [
        "IPY_MODEL_1890923921624239b6f0deb35c8da23b",
        "IPY_MODEL_9b8a361192a043b69ff905e9b8b38716"
       ],
       "layout": "IPY_MODEL_19d90d6c15134b4abe75bc7788dad3da"
      }
     },
     "524b289ad4454b6a821775f002daf379": {
      "model_module": "@jupyter-widgets/controls",
      "model_module_version": "1.5.0",
      "model_name": "HTMLModel",
      "state": {
       "layout": "IPY_MODEL_acb5a665abfd4295915c0bfe162b72bb",
       "style": "IPY_MODEL_5e03251e2b0d46aa98fe64f96da0c4fc",
       "value": " 0/100 [00:00&lt;?, ?it/s]"
      }
     },
     "54c21e43d50d422385eb0b338a549581": {
      "model_module": "@jupyter-widgets/base",
      "model_module_version": "1.2.0",
      "model_name": "LayoutModel",
      "state": {}
     },
     "57b2f9874da343bba0343f37795298cc": {
      "model_module": "@jupyter-widgets/controls",
      "model_module_version": "1.5.0",
      "model_name": "HTMLModel",
      "state": {
       "layout": "IPY_MODEL_4dd609f8f14442c2ad7e38aadf857aa6",
       "style": "IPY_MODEL_6e20146bb5a6475ebded2853d1db3235",
       "value": " 0/100 [00:00&lt;?, ?it/s]"
      }
     },
     "5820f53e70774d2fb186c611875383eb": {
      "model_module": "@jupyter-widgets/base",
      "model_module_version": "1.2.0",
      "model_name": "LayoutModel",
      "state": {}
     },
     "59b846a9e4fc418e9beb3a088dc011d6": {
      "model_module": "@jupyter-widgets/controls",
      "model_module_version": "1.5.0",
      "model_name": "FloatProgressModel",
      "state": {
       "bar_style": "danger",
       "description": "(Epoch 3) noise type: n1:   0%",
       "layout": "IPY_MODEL_200febe8008e45e8bcd22f19a812d6c2",
       "style": "IPY_MODEL_815f59ffa5344ccb87045cd22aeef9c7"
      }
     },
     "5e03251e2b0d46aa98fe64f96da0c4fc": {
      "model_module": "@jupyter-widgets/controls",
      "model_module_version": "1.5.0",
      "model_name": "DescriptionStyleModel",
      "state": {
       "description_width": ""
      }
     },
     "65b6c3dbc5f04d7f8b7e8b06945b7b5e": {
      "model_module": "@jupyter-widgets/controls",
      "model_module_version": "1.5.0",
      "model_name": "FloatProgressModel",
      "state": {
       "bar_style": "danger",
       "description": "  0%",
       "layout": "IPY_MODEL_c5a59f8bcfc34964bd7e98b589da1055",
       "style": "IPY_MODEL_a54a2133b1294f50bffb70ef00973153"
      }
     },
     "6e20146bb5a6475ebded2853d1db3235": {
      "model_module": "@jupyter-widgets/controls",
      "model_module_version": "1.5.0",
      "model_name": "DescriptionStyleModel",
      "state": {
       "description_width": ""
      }
     },
     "6e5ac1bca326467f9de8b6cab1a21051": {
      "model_module": "@jupyter-widgets/base",
      "model_module_version": "1.2.0",
      "model_name": "LayoutModel",
      "state": {}
     },
     "6fdb2cc6afd64c9e9876c67bac1ff6cf": {
      "model_module": "@jupyter-widgets/base",
      "model_module_version": "1.2.0",
      "model_name": "LayoutModel",
      "state": {}
     },
     "704984fa45e24bc1ae3fbbbf8c3cd153": {
      "model_module": "@jupyter-widgets/controls",
      "model_module_version": "1.5.0",
      "model_name": "FloatProgressModel",
      "state": {
       "description": "(Epoch 3) noise type: n6:   5%",
       "layout": "IPY_MODEL_6e5ac1bca326467f9de8b6cab1a21051",
       "style": "IPY_MODEL_35f943627e1640c6a9575a62a2bfa76a",
       "value": 5
      }
     },
     "71f9b28ba659435ea1453498c640f08b": {
      "model_module": "@jupyter-widgets/base",
      "model_module_version": "1.2.0",
      "model_name": "LayoutModel",
      "state": {}
     },
     "784e15bc267843d1bcd0273f7031ff3a": {
      "model_module": "@jupyter-widgets/base",
      "model_module_version": "1.2.0",
      "model_name": "LayoutModel",
      "state": {}
     },
     "815f59ffa5344ccb87045cd22aeef9c7": {
      "model_module": "@jupyter-widgets/controls",
      "model_module_version": "1.5.0",
      "model_name": "ProgressStyleModel",
      "state": {
       "description_width": "initial"
      }
     },
     "87d3a36fba404cd581f822652eeae880": {
      "model_module": "@jupyter-widgets/controls",
      "model_module_version": "1.5.0",
      "model_name": "DescriptionStyleModel",
      "state": {
       "description_width": ""
      }
     },
     "8b3060fb450c422481e4a95cd443259a": {
      "model_module": "@jupyter-widgets/controls",
      "model_module_version": "1.5.0",
      "model_name": "HTMLModel",
      "state": {
       "layout": "IPY_MODEL_8f0e93fc154a4114be99d0618bbed8ec",
       "style": "IPY_MODEL_3620d4241e904c5a83aaa6f960336341",
       "value": " 0/100 [00:00&lt;?, ?it/s]"
      }
     },
     "8b4fdf8e1ef04425862c031cef92b52d": {
      "model_module": "@jupyter-widgets/controls",
      "model_module_version": "1.5.0",
      "model_name": "ProgressStyleModel",
      "state": {
       "description_width": "initial"
      }
     },
     "8e1d97c596494ccda64fb48397803cc0": {
      "model_module": "@jupyter-widgets/base",
      "model_module_version": "1.2.0",
      "model_name": "LayoutModel",
      "state": {}
     },
     "8f0e93fc154a4114be99d0618bbed8ec": {
      "model_module": "@jupyter-widgets/base",
      "model_module_version": "1.2.0",
      "model_name": "LayoutModel",
      "state": {}
     },
     "8f3485f71f81438082f9ac9d66580a31": {
      "model_module": "@jupyter-widgets/controls",
      "model_module_version": "1.5.0",
      "model_name": "ProgressStyleModel",
      "state": {
       "description_width": "initial"
      }
     },
     "9307ba5d06674a47adc1942ce720a9ba": {
      "model_module": "@jupyter-widgets/controls",
      "model_module_version": "1.5.0",
      "model_name": "HTMLModel",
      "state": {
       "layout": "IPY_MODEL_dd9e69370eaf4f349533629546967e1f",
       "style": "IPY_MODEL_d063e5de31784c048f3997ce80663b9a",
       "value": " 5/100 [01:12&lt;19:26, 12.28s/it, loss=0.634]"
      }
     },
     "991126de3e234326b0720ff7c4d9a511": {
      "model_module": "@jupyter-widgets/base",
      "model_module_version": "1.2.0",
      "model_name": "LayoutModel",
      "state": {}
     },
     "9afa8d68ce3646a9ac41edc79356706e": {
      "model_module": "@jupyter-widgets/controls",
      "model_module_version": "1.5.0",
      "model_name": "DescriptionStyleModel",
      "state": {
       "description_width": ""
      }
     },
     "9b8a361192a043b69ff905e9b8b38716": {
      "model_module": "@jupyter-widgets/controls",
      "model_module_version": "1.5.0",
      "model_name": "HTMLModel",
      "state": {
       "layout": "IPY_MODEL_991126de3e234326b0720ff7c4d9a511",
       "style": "IPY_MODEL_ccf3a18de9b247f48b8833e84df243c6",
       "value": " 0/100 [00:00&lt;?, ?it/s]"
      }
     },
     "9c74a1c33a9540ebbe06c2ee93c99dcd": {
      "model_module": "@jupyter-widgets/controls",
      "model_module_version": "1.5.0",
      "model_name": "HTMLModel",
      "state": {
       "layout": "IPY_MODEL_34b80b92070042ec9b411f2eece0ad6f",
       "style": "IPY_MODEL_9afa8d68ce3646a9ac41edc79356706e",
       "value": " 0/100 [00:00&lt;?, ?it/s]"
      }
     },
     "a28a2bd4fcbd4e67a1f32fc24525be47": {
      "model_module": "@jupyter-widgets/base",
      "model_module_version": "1.2.0",
      "model_name": "LayoutModel",
      "state": {}
     },
     "a54a2133b1294f50bffb70ef00973153": {
      "model_module": "@jupyter-widgets/controls",
      "model_module_version": "1.5.0",
      "model_name": "ProgressStyleModel",
      "state": {
       "description_width": "initial"
      }
     },
     "a88f9e07f007434bb50f41c4592a7c90": {
      "model_module": "@jupyter-widgets/controls",
      "model_module_version": "1.5.0",
      "model_name": "HBoxModel",
      "state": {
       "children": [
        "IPY_MODEL_65b6c3dbc5f04d7f8b7e8b06945b7b5e",
        "IPY_MODEL_4dadbb9a2a3f42f0aad17693aea1f1c5"
       ],
       "layout": "IPY_MODEL_b4d7c5ca8f544c37877f0a735505a1d5"
      }
     },
     "acb5a665abfd4295915c0bfe162b72bb": {
      "model_module": "@jupyter-widgets/base",
      "model_module_version": "1.2.0",
      "model_name": "LayoutModel",
      "state": {}
     },
     "b4457670b7ce4d43b19afc35c1e06ff0": {
      "model_module": "@jupyter-widgets/controls",
      "model_module_version": "1.5.0",
      "model_name": "FloatProgressModel",
      "state": {
       "bar_style": "danger",
       "description": "  0%",
       "layout": "IPY_MODEL_ce926500186f401690fdce63796469d6",
       "style": "IPY_MODEL_d52295b35571467bbae630a39d1ac325"
      }
     },
     "b4d7c5ca8f544c37877f0a735505a1d5": {
      "model_module": "@jupyter-widgets/base",
      "model_module_version": "1.2.0",
      "model_name": "LayoutModel",
      "state": {}
     },
     "c5a59f8bcfc34964bd7e98b589da1055": {
      "model_module": "@jupyter-widgets/base",
      "model_module_version": "1.2.0",
      "model_name": "LayoutModel",
      "state": {}
     },
     "c90f5bcc30b94c7ebe48dd523ba69c4e": {
      "model_module": "@jupyter-widgets/controls",
      "model_module_version": "1.5.0",
      "model_name": "DescriptionStyleModel",
      "state": {
       "description_width": ""
      }
     },
     "ccf3a18de9b247f48b8833e84df243c6": {
      "model_module": "@jupyter-widgets/controls",
      "model_module_version": "1.5.0",
      "model_name": "DescriptionStyleModel",
      "state": {
       "description_width": ""
      }
     },
     "ce926500186f401690fdce63796469d6": {
      "model_module": "@jupyter-widgets/base",
      "model_module_version": "1.2.0",
      "model_name": "LayoutModel",
      "state": {}
     },
     "d063e5de31784c048f3997ce80663b9a": {
      "model_module": "@jupyter-widgets/controls",
      "model_module_version": "1.5.0",
      "model_name": "DescriptionStyleModel",
      "state": {
       "description_width": ""
      }
     },
     "d46ce125b6a749db9341132424d3204c": {
      "model_module": "@jupyter-widgets/controls",
      "model_module_version": "1.5.0",
      "model_name": "HBoxModel",
      "state": {
       "children": [
        "IPY_MODEL_f0f9a54281df489ea14bf270024a3d24",
        "IPY_MODEL_8b3060fb450c422481e4a95cd443259a"
       ],
       "layout": "IPY_MODEL_01d9e004ba8f4ebeb9daa0b62d2a8c77"
      }
     },
     "d52295b35571467bbae630a39d1ac325": {
      "model_module": "@jupyter-widgets/controls",
      "model_module_version": "1.5.0",
      "model_name": "ProgressStyleModel",
      "state": {
       "description_width": "initial"
      }
     },
     "dd9e69370eaf4f349533629546967e1f": {
      "model_module": "@jupyter-widgets/base",
      "model_module_version": "1.2.0",
      "model_name": "LayoutModel",
      "state": {}
     },
     "e6c31c7d187c4282bc34f6040b830482": {
      "model_module": "@jupyter-widgets/controls",
      "model_module_version": "1.5.0",
      "model_name": "ProgressStyleModel",
      "state": {
       "description_width": "initial"
      }
     },
     "effea18119a14a9b91fa5cb322690301": {
      "model_module": "@jupyter-widgets/base",
      "model_module_version": "1.2.0",
      "model_name": "LayoutModel",
      "state": {}
     },
     "f0f9a54281df489ea14bf270024a3d24": {
      "model_module": "@jupyter-widgets/controls",
      "model_module_version": "1.5.0",
      "model_name": "FloatProgressModel",
      "state": {
       "bar_style": "danger",
       "description": "  0%",
       "layout": "IPY_MODEL_a28a2bd4fcbd4e67a1f32fc24525be47",
       "style": "IPY_MODEL_1f75caf4865741b8bb4a640be6d1d20e"
      }
     }
    },
    "version_major": 2,
    "version_minor": 0
   }
  }
 },
 "nbformat": 4,
 "nbformat_minor": 4
}
